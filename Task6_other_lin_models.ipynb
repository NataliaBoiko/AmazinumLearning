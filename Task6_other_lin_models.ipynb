{
 "cells": [
  {
   "cell_type": "code",
   "execution_count": 15,
   "id": "394e84a0",
   "metadata": {},
   "outputs": [],
   "source": [
    "%matplotlib notebook"
   ]
  },
  {
   "cell_type": "code",
   "execution_count": 16,
   "id": "1b9db5d3",
   "metadata": {},
   "outputs": [],
   "source": [
    "import matplotlib.pyplot as plt\n",
    "import pandas as pd \n",
    "import numpy as np \n",
    "from sklearn.model_selection import train_test_split"
   ]
  },
  {
   "cell_type": "code",
   "execution_count": 17,
   "id": "d88fea1b",
   "metadata": {},
   "outputs": [],
   "source": [
    "from sklearn.datasets import load_diabetes"
   ]
  },
  {
   "cell_type": "code",
   "execution_count": 18,
   "id": "6d015c10",
   "metadata": {},
   "outputs": [],
   "source": [
    "X, y = load_diabetes(return_X_y=True, as_frame=True)"
   ]
  },
  {
   "cell_type": "code",
   "execution_count": 19,
   "id": "cc10b741",
   "metadata": {},
   "outputs": [],
   "source": [
    "X_train, X_test, y_train, y_test=  train_test_split(X, y)"
   ]
  },
  {
   "cell_type": "code",
   "execution_count": 20,
   "id": "d98e457c",
   "metadata": {},
   "outputs": [
    {
     "name": "stdout",
     "output_type": "stream",
     "text": [
      "Linear Regression\n",
      "R2 train score = 0.5587000076691349\n",
      "R2 test score = 0.366453272003743\n",
      "b: 151.7617133842068, \n",
      "w= [   17.47382261  -232.12178592   455.59196589   420.715234\n",
      " -1167.22251807   741.88336946   354.78053916   353.12850786\n",
      "   855.38609511    56.74925849]\n"
     ]
    }
   ],
   "source": [
    "#Linear Regression\n",
    "from sklearn.linear_model import LinearRegression\n",
    "lin_reg=LinearRegression()\n",
    "lin_reg.fit(X_train,y_train)\n",
    "regressor = lin_reg\n",
    "print ('Linear Regression')\n",
    "print ('R2 train score =', regressor.score(X_train, y_train))\n",
    "print ('R2 test score =', regressor.score(X_test, y_test))\n",
    "print ('b: {}, \\nw= {}'.format(regressor.intercept_, regressor.coef_)) "
   ]
  },
  {
   "cell_type": "code",
   "execution_count": 21,
   "id": "4ff84299",
   "metadata": {},
   "outputs": [
    {
     "name": "stdout",
     "output_type": "stream",
     "text": [
      "Ridge\n",
      "R2 train score = 0.4705084556418426\n",
      "R2 test score = 0.31371267111959666\n",
      "b: 151.71294992225364, \n",
      "w= [  42.74193345  -56.79574747  262.48609764  216.19902439   24.94372383\n",
      "   -7.20941546 -131.59015639  124.70668444  237.26747614  106.30004608]\n"
     ]
    }
   ],
   "source": [
    "#Ridge\n",
    "from sklearn.linear_model import Ridge\n",
    "ridge_reg=Ridge()\n",
    "ridge_reg.fit(X_train,y_train)\n",
    "regressor = ridge_reg\n",
    "print ('Ridge')\n",
    "print ('R2 train score =', regressor.score(X_train, y_train))\n",
    "print ('R2 test score =', regressor.score(X_test, y_test))\n",
    "print ('b: {}, \\nw= {}'.format(regressor.intercept_, regressor.coef_)) "
   ]
  },
  {
   "cell_type": "code",
   "execution_count": 22,
   "id": "87f7d949",
   "metadata": {},
   "outputs": [
    {
     "name": "stdout",
     "output_type": "stream",
     "text": [
      "Lasso\n",
      "R2 train score = 0.407536023864954\n",
      "R2 test score = 0.2989479351557258\n",
      "b: 151.80808431897063, \n",
      "w= [  0.          -0.         332.84354464  98.45064207   0.\n",
      "   0.          -0.           0.         330.31110832   0.        ]\n"
     ]
    }
   ],
   "source": [
    "#Lasso\n",
    "from sklearn.linear_model import Lasso\n",
    "lasso_reg=Lasso()\n",
    "lasso_reg.fit(X_train,y_train)\n",
    "regressor = lasso_reg\n",
    "print ('Lasso')\n",
    "print ('R2 train score =', regressor.score(X_train, y_train))\n",
    "print ('R2 test score =', regressor.score(X_test, y_test))\n",
    "print ('b: {}, \\nw= {}'.format(regressor.intercept_, regressor.coef_)) "
   ]
  },
  {
   "cell_type": "code",
   "execution_count": 23,
   "id": "fc0c9672",
   "metadata": {},
   "outputs": [],
   "source": [
    "#Polynomial\n",
    "from sklearn.preprocessing import PolynomialFeatures"
   ]
  },
  {
   "cell_type": "code",
   "execution_count": 24,
   "id": "fc1a0795",
   "metadata": {},
   "outputs": [
    {
     "name": "stdout",
     "output_type": "stream",
     "text": [
      "X_train.shape=  (331, 10)\n",
      "X_train_poly.shape=  (331, 65)\n",
      "Polynomial + Linear Regression\n",
      "R2 train score = 0.6517488218093636\n",
      "R2 test score = 0.2310029191726004\n",
      "b: 111.4245891703927, \n",
      "w= [ 1.03789135e+02 -2.47418814e+02  4.31903041e+02  4.15082988e+02\n",
      " -5.50272122e+03  4.69707459e+03  1.90846184e+03  2.65787508e+02\n",
      "  2.36886688e+03 -2.00252917e+00  4.05447999e+02  3.28686086e+03\n",
      "  7.72443959e+01 -1.10961322e+03  9.48864554e+02 -8.55883357e+02\n",
      "  1.82123731e+03 -2.90298236e+02  3.55187547e+03  2.47528560e+03\n",
      " -1.49403405e+00  2.02889422e+03  7.74273147e+02  1.66520903e+04\n",
      " -1.09412224e+04 -8.84275127e+03 -6.98739837e+03 -4.96030319e+03\n",
      "  2.36377621e+03  8.00640000e+02  3.13789183e+03 -2.72080466e+03\n",
      "  1.28296352e+03  2.30936318e+03  8.26297202e+02  2.72031446e+03\n",
      " -1.02702393e+03  8.74769541e+00  5.06374525e+03 -1.02010572e+01\n",
      " -5.61435869e+02 -5.37916546e+03  1.82429464e+02 -3.62472670e+02\n",
      "  1.26857496e+05 -1.67877609e+05 -1.14115559e+05 -4.14290735e+04\n",
      " -9.63087089e+04 -1.45560681e+04  5.53718442e+04  7.40369732e+04\n",
      "  2.35839355e+04  6.39840484e+04  9.78115288e+03  2.68587721e+04\n",
      "  2.24959209e+04  4.02698278e+04  9.91662841e+03  9.50027091e+03\n",
      "  1.07120967e+04  5.67817085e+03  2.65676491e+04  4.30320226e+03\n",
      "  1.71163952e+03]\n"
     ]
    }
   ],
   "source": [
    "poly= PolynomialFeatures(degree=2,include_bias=False) # default is True means to return the first feature of all 1 as for degree 0 \n",
    "X_train_poly= poly.fit_transform(X_train)\n",
    "X_test_poly = poly.transform(X_test)\n",
    "print ('X_train.shape= ',X_train.shape)\n",
    "print ('X_train_poly.shape= ',X_train_poly.shape)\n",
    "# X_train_poly[:5]\n",
    "poly_lin_reg = LinearRegression().fit (X_train_poly,y_train)\n",
    "regressor = poly_lin_reg\n",
    "print ('Polynomial + Linear Regression')\n",
    "print ('R2 train score =', regressor.score(X_train_poly, y_train))\n",
    "print ('R2 test score =', regressor.score(X_test_poly, y_test))\n",
    "print ('b: {}, \\nw= {}'.format(regressor.intercept_, regressor.coef_)) "
   ]
  }
 ],
 "metadata": {
  "kernelspec": {
   "display_name": "Python 3 (ipykernel)",
   "language": "python",
   "name": "python3"
  },
  "language_info": {
   "codemirror_mode": {
    "name": "ipython",
    "version": 3
   },
   "file_extension": ".py",
   "mimetype": "text/x-python",
   "name": "python",
   "nbconvert_exporter": "python",
   "pygments_lexer": "ipython3",
   "version": "3.9.13"
  }
 },
 "nbformat": 4,
 "nbformat_minor": 5
}
