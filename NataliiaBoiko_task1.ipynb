{
 "cells": [
  {
   "cell_type": "code",
   "execution_count": 1,
   "id": "5c266f98",
   "metadata": {},
   "outputs": [
    {
     "name": "stdout",
     "output_type": "stream",
     "text": [
      "Pi= 3.143\n"
     ]
    }
   ],
   "source": [
    "import numpy as np\n",
    "\n",
    "all_points = 100000\n",
    "circle_points = 0\n",
    "\n",
    "for i in range(all_points):\n",
    "    x = np.random.uniform(-1, 1)\n",
    "    y = np.random.uniform(-1, 1)\n",
    "    if  x**2 + y**2 <= 1:\n",
    "        circle_points += 1\n",
    "\n",
    "pi = 4 * circle_points / all_points\n",
    "\n",
    "print(\"Pi=\", pi)"
   ]
  },
  {
   "cell_type": "code",
   "execution_count": null,
   "id": "5ea1cce8",
   "metadata": {},
   "outputs": [],
   "source": []
  }
 ],
 "metadata": {
  "kernelspec": {
   "display_name": "Python 3 (ipykernel)",
   "language": "python",
   "name": "python3"
  },
  "language_info": {
   "codemirror_mode": {
    "name": "ipython",
    "version": 3
   },
   "file_extension": ".py",
   "mimetype": "text/x-python",
   "name": "python",
   "nbconvert_exporter": "python",
   "pygments_lexer": "ipython3",
   "version": "3.9.13"
  }
 },
 "nbformat": 4,
 "nbformat_minor": 5
}
