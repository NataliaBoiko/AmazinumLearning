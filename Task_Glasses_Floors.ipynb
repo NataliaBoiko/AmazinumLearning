{
 "cells": [
  {
   "cell_type": "code",
   "execution_count": 17,
   "id": "dafc1f65",
   "metadata": {},
   "outputs": [],
   "source": [
    "from functools import lru_cache\n",
    "#@lru_cache()\n",
    "def height(n,m):\n",
    "    if n==0 or m==0: return 0\n",
    "    elif n==1: return m\n",
    "    elif n==2: return (m**2+m)/2\n",
    "    elif n>=m: return 2**n-1\n",
    "    else: return height(n-1,m-1)+1+height(n,m-1)"
   ]
  },
  {
   "cell_type": "code",
   "execution_count": 18,
   "id": "04c78ea7",
   "metadata": {},
   "outputs": [
    {
     "data": {
      "text/plain": [
       "1023.0"
      ]
     },
     "execution_count": 18,
     "metadata": {},
     "output_type": "execute_result"
    }
   ],
   "source": [
    "height(5,11)"
   ]
  },
  {
   "cell_type": "code",
   "execution_count": 44,
   "id": "de0d4be8",
   "metadata": {},
   "outputs": [],
   "source": [
    "# n - к-сть стаканів\n",
    "# k - к-сть поверхів\n",
    "\n",
    "def qntyThrow(n, k):\n",
    "    tbl = [[0 for x in range(k + 1)] for x in range(n + 1)]\n",
    "    \n",
    "    #заповнюємо для базових значень\n",
    "    #стаканів 0 - кидків 0\n",
    "    #поверхів 0 - кидків 0\n",
    "    #стаканів 1 - кидків к-сть поверхів\n",
    "    for i in range(1, n + 1):\n",
    "        tbl[i][0] = 0\n",
    "        tbl[i][1] = 1\n",
    "      \n",
    "    for j in range(1, k + 1):\n",
    "        tbl[1][j] = j\n",
    "        \n",
    "    #print(tbl)\n",
    "    \n",
    "    #для решти значень  1 + max(tbl[i-1][k-1], tbl[i][j-k])\n",
    "    for i in range(2, n + 1):\n",
    "        for j in range(2, k + 1):\n",
    "            tbl[i][j] = 10000\n",
    "            for x in range(1, j + 1):\n",
    "                res = 1 + max(tbl[i-1][x-1], tbl[i][j-x])\n",
    "                if res < tbl[i][j]:\n",
    "                    tbl[i][j] = res\n",
    "    return tbl[n][k]"
   ]
  },
  {
   "cell_type": "code",
   "execution_count": 45,
   "id": "19791d94",
   "metadata": {},
   "outputs": [
    {
     "name": "stdout",
     "output_type": "stream",
     "text": [
      "14\n"
     ]
    }
   ],
   "source": [
    "print(str(qntyThrow(2, 100)))"
   ]
  },
  {
   "cell_type": "code",
   "execution_count": 46,
   "id": "3818f7e1",
   "metadata": {},
   "outputs": [
    {
     "name": "stdout",
     "output_type": "stream",
     "text": [
      "9\n"
     ]
    }
   ],
   "source": [
    "print(str(qntyThrow(3, 100)))"
   ]
  },
  {
   "cell_type": "code",
   "execution_count": 47,
   "id": "95c296da",
   "metadata": {},
   "outputs": [
    {
     "name": "stdout",
     "output_type": "stream",
     "text": [
      "11\n"
     ]
    }
   ],
   "source": [
    "print(str(qntyThrow(5, 1000)))"
   ]
  },
  {
   "cell_type": "code",
   "execution_count": null,
   "id": "4e50fff2",
   "metadata": {},
   "outputs": [],
   "source": []
  }
 ],
 "metadata": {
  "kernelspec": {
   "display_name": "Python 3 (ipykernel)",
   "language": "python",
   "name": "python3"
  },
  "language_info": {
   "codemirror_mode": {
    "name": "ipython",
    "version": 3
   },
   "file_extension": ".py",
   "mimetype": "text/x-python",
   "name": "python",
   "nbconvert_exporter": "python",
   "pygments_lexer": "ipython3",
   "version": "3.9.13"
  }
 },
 "nbformat": 4,
 "nbformat_minor": 5
}
